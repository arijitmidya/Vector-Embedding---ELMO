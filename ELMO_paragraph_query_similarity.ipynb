{
 "cells": [
  {
   "cell_type": "code",
   "execution_count": 34,
   "metadata": {
    "id": "ETCnIDEmXjIF"
   },
   "outputs": [],
   "source": [
    "import tensorflow_hub as hub\n",
    "import tensorflow as tf\n",
    "from sklearn.metrics.pairwise import cosine_similarity\n",
    "import numpy as np"
   ]
  },
  {
   "cell_type": "code",
   "execution_count": 2,
   "metadata": {
    "id": "0sf9vRhNlMvk"
   },
   "outputs": [],
   "source": [
    "# Load the ELMO model\n",
    "elmo = hub.load(\"https://tfhub.dev/google/elmo/3\")"
   ]
  },
  {
   "cell_type": "code",
   "execution_count": 62,
   "metadata": {
    "id": "Y6APaYThGVru"
   },
   "outputs": [],
   "source": [
    "# Function to embed a paragraph\n",
    "\n",
    "def embed_paragraph(paragraph):\n",
    "    # Access the 'default' signature of the ELMO model and call it with the paragraph\n",
    "    embedding = elmo.signatures['default'](tf.constant([paragraph]))['elmo']\n",
    "    # Get the first embedding from the output and calculate the average across the sequence length\n",
    "    return tf.reduce_mean(embedding[0], axis=0).numpy() # Calculate average and convert to NumPy array"
   ]
  },
  {
   "cell_type": "code",
   "execution_count": 63,
   "metadata": {
    "id": "Pd2Q2Ei5K1FF"
   },
   "outputs": [],
   "source": [
    "# Create a list of paragraphs\n",
    "\n",
    "paragraphs = [\n",
    "\n",
    "\"Classical physics is a branch of physics that describes the behavior of matter and energy on a macroscopic scale. It encompasses the laws of motion, gravity, electricity, magnetism, and thermodynamics. These laws, formulated by scientists like Newton, Einstein, and Maxwell, provide a framework for understanding the world around us, from the motion of planets to the flow of electricity. While classical physics is highly successful in explaining many phenomena, it breaks down at the quantum level, where particles exhibit behaviors that cannot be described by classical mechanics.\",\n",
    "\"Quantum physics is a branch of physics that deals with the behavior of matter and energy at the atomic and subatomic level. It introduces concepts that defy classical intuition, such as wave-particle duality, superposition, and quantum entanglement. These principles explain phenomena like the photoelectric effect, black-body radiation, and the behavior of electrons in atoms. Quantum physics has led to groundbreaking technologies like lasers, transistors, and quantum computers, revolutionizing our understanding of the universe and its applications.\",\n",
    "\"Nietzsche's On the Genealogy of Morals is a philosophical exploration of the origins and development of moral concepts. Nietzsche argues that traditional morality is a product of historical circumstances, power dynamics, and human psychology. He criticizes the prevailing moral systems as oppressive and harmful, rooted in concepts like guilt, resentment, and herd mentality. Instead, Nietzsche proposes a new morality based on self-overcoming, creativity, and the affirmation of life. The book delves into the historical roots of morality, tracing its evolution from the slave morality of the weak to the master morality of the strong. Nietzsche ultimately challenges readers to question the prevailing moral values and forge their own paths to meaning and fulfillment.\",\n",
    "\"Albert Camus's The Myth of Sisyphus is a philosophical essay that explores the absurdity of human existence. The central figure, Sisyphus, is condemned to eternally roll a boulder up a hill, only for it to roll back down, forcing him to repeat the task endlessly. Camus argues that this futile labor mirrors the human condition, filled with meaningless tasks and the inevitable absurdity of death. However, he suggests that Sisyphus can find meaning and defiance in his suffering by acknowledging the absurdity of his situation and choosing to rebel against it. Camus proposes that the essence of human existence lies in this constant struggle against the absurd, and it is through this defiance that we can find a sense of purpose and dignity.\",\n",
    "\"Football is a team sport played between two teams of eleven players on a rectangular field. The objective of the game is to score more goals than the opposing team by kicking the ball into the net. Players use their feet, head, and chest to control the ball, passing it to teammates and attempting to dribble past opponents. The game is known for its physicality, strategy, and teamwork, making it one of the most popular sports worldwide.\",\n",
    "\"Cricket is a bat-and-ball game played between two teams of eleven players on a field with a 22-yard (20-meter) pitch at the center. The objective is to score more runs than the opposing team. One team bats while the other fields. The batting team tries to hit the ball bowled by the fielding team with the bat, scoring runs by running between wickets or hitting the ball to the boundary. The fielding team tries to dismiss the batting team by catching the ball or bowling the batsman out. The game is often played over multiple days, with each team taking turns to bat and field.\",\n",
    "# feel free to add more paragraphs here\n",
    "]\n"
   ]
  },
  {
   "cell_type": "code",
   "execution_count": 65,
   "metadata": {
    "id": "hyOGrThUK8qE"
   },
   "outputs": [],
   "source": [
    "# Embed the paragraphs and convert to a NumPy array\n",
    "\n",
    "paragraph_embeddings = [embed_paragraph(paragraph) for paragraph in paragraphs]\n",
    "paragraph_embeddings = np.array(paragraph_embeddings) # Directly convert the list of NumPy arrays to a single NumPy array"
   ]
  },
  {
   "cell_type": "code",
   "execution_count": 66,
   "metadata": {
    "colab": {
     "base_uri": "https://localhost:8080/"
    },
    "id": "lF-PWAH9LDxc",
    "outputId": "5c17ec85-9266-423b-a21a-efe6fdfe84ae"
   },
   "outputs": [
    {
     "name": "stdout",
     "output_type": "stream",
     "text": [
      "Classical physics is a branch of physics that describes the behavior of matter and energy on a macroscopic scale. It encompasses the laws of motion, gravity, electricity, magnetism, and thermodynamics. These laws, formulated by scientists like Newton, Einstein, and Maxwell, provide a framework for understanding the world around us, from the motion of planets to the flow of electricity. While classical physics is highly successful in explaining many phenomena, it breaks down at the quantum level, where particles exhibit behaviors that cannot be described by classical mechanics.\n",
      "(1024,)\n",
      "[-0.21083254  0.19834185 -0.13818097 ... -0.03990935  0.54589444\n",
      " -0.02119327]\n"
     ]
    }
   ],
   "source": [
    "# visualize paragraph embeddings\n",
    "\n",
    "print(paragraphs[0])\n",
    "print(paragraph_embeddings[0].shape)\n",
    "print(paragraph_embeddings[0])\n"
   ]
  },
  {
   "cell_type": "code",
   "execution_count": 67,
   "metadata": {
    "id": "RDUUz1jlMRFd"
   },
   "outputs": [],
   "source": [
    "# Function to find the most similar paragraph to a query\n",
    "\n",
    "def find_similar_paragraph(query, paragraph_embeddings):\n",
    "    query_embedding = embed_paragraph(query)\n",
    "    # Convert query_embedding to NumPy if it's a Tensor\n",
    "    query_embedding = query_embedding.numpy() if isinstance(query_embedding, tf.Tensor) else query_embedding\n",
    "    similarities = cosine_similarity([query_embedding], paragraph_embeddings)[0]\n",
    "    most_similar_index = similarities.argmax()\n",
    "    return paragraphs[most_similar_index]"
   ]
  },
  {
   "cell_type": "code",
   "execution_count": 69,
   "metadata": {
    "colab": {
     "base_uri": "https://localhost:8080/"
    },
    "id": "2GvSTn3QN5l8",
    "outputId": "15fd4fd3-e117-49ab-a2bc-4b9735c4a0cf"
   },
   "outputs": [
    {
     "name": "stdout",
     "output_type": "stream",
     "text": [
      "Albert Camus's The Myth of Sisyphus is a philosophical essay that explores the absurdity of human existence. The central figure, Sisyphus, is condemned to eternally roll a boulder up a hill, only for it to roll back down, forcing him to repeat the task endlessly. Camus argues that this futile labor mirrors the human condition, filled with meaningless tasks and the inevitable absurdity of death. However, he suggests that Sisyphus can find meaning and defiance in his suffering by acknowledging the absurdity of his situation and choosing to rebel against it. Camus proposes that the essence of human existence lies in this constant struggle against the absurd, and it is through this defiance that we can find a sense of purpose and dignity.\n"
     ]
    }
   ],
   "source": [
    "# Example usage\n",
    "\n",
    "query = \"Who is Albert Camus?\"\n",
    "similar_paragraph = find_similar_paragraph(query, paragraph_embeddings)\n",
    "print(similar_paragraph)"
   ]
  },
  {
   "cell_type": "code",
   "execution_count": 72,
   "metadata": {
    "colab": {
     "base_uri": "https://localhost:8080/"
    },
    "id": "p4YpPrFKOD4V",
    "outputId": "1c76dcd9-736b-4b47-f486-5a5f9cf4c9bd"
   },
   "outputs": [
    {
     "name": "stdout",
     "output_type": "stream",
     "text": [
      "Nietzsche's On the Genealogy of Morals is a philosophical exploration of the origins and development of moral concepts. Nietzsche argues that traditional morality is a product of historical circumstances, power dynamics, and human psychology. He criticizes the prevailing moral systems as oppressive and harmful, rooted in concepts like guilt, resentment, and herd mentality. Instead, Nietzsche proposes a new morality based on self-overcoming, creativity, and the affirmation of life. The book delves into the historical roots of morality, tracing its evolution from the slave morality of the weak to the master morality of the strong. Nietzsche ultimately challenges readers to question the prevailing moral values and forge their own paths to meaning and fulfillment.\n"
     ]
    }
   ],
   "source": [
    "# Example usage\n",
    "\n",
    "query = \"Explain Genealogy of Morals?\"\n",
    "similar_paragraph = find_similar_paragraph(query, paragraph_embeddings)\n",
    "print(similar_paragraph)"
   ]
  },
  {
   "cell_type": "code",
   "execution_count": 77,
   "metadata": {
    "colab": {
     "base_uri": "https://localhost:8080/"
    },
    "id": "nZVqIvkeQd0V",
    "outputId": "f89d6462-b643-4f4a-b986-4881c33bb3f1"
   },
   "outputs": [
    {
     "name": "stdout",
     "output_type": "stream",
     "text": [
      "Football is a team sport played between two teams of eleven players on a rectangular field. The objective of the game is to score more goals than the opposing team by kicking the ball into the net. Players use their feet, head, and chest to control the ball, passing it to teammates and attempting to dribble past opponents. The game is known for its physicality, strategy, and teamwork, making it one of the most popular sports worldwide.\n"
     ]
    }
   ],
   "source": [
    "# Example usage\n",
    "\n",
    "query = \"Explain Football ?\"\n",
    "similar_paragraph = find_similar_paragraph(query, paragraph_embeddings)\n",
    "print(similar_paragraph)"
   ]
  },
  {
   "cell_type": "code",
   "execution_count": 78,
   "metadata": {
    "colab": {
     "base_uri": "https://localhost:8080/"
    },
    "id": "Kd7qpfeDQyK9",
    "outputId": "4830c9a4-19fb-4571-9b54-e094b86a1e7d"
   },
   "outputs": [
    {
     "name": "stdout",
     "output_type": "stream",
     "text": [
      "Cricket is a bat-and-ball game played between two teams of eleven players on a field with a 22-yard (20-meter) pitch at the center. The objective is to score more runs than the opposing team. One team bats while the other fields. The batting team tries to hit the ball bowled by the fielding team with the bat, scoring runs by running between wickets or hitting the ball to the boundary. The fielding team tries to dismiss the batting team by catching the ball or bowling the batsman out. The game is often played over multiple days, with each team taking turns to bat and field.\n"
     ]
    }
   ],
   "source": [
    "# Example usage\n",
    "\n",
    "query = \"Explain Cricket ?\"\n",
    "similar_paragraph = find_similar_paragraph(query, paragraph_embeddings)\n",
    "print(similar_paragraph)"
   ]
  },
  {
   "cell_type": "code",
   "execution_count": null,
   "metadata": {
    "id": "59OyQpaVRqal"
   },
   "outputs": [],
   "source": []
  }
 ],
 "metadata": {
  "colab": {
   "provenance": []
  },
  "kernelspec": {
   "display_name": "Python 3 (ipykernel)",
   "language": "python",
   "name": "python3"
  },
  "language_info": {
   "codemirror_mode": {
    "name": "ipython",
    "version": 3
   },
   "file_extension": ".py",
   "mimetype": "text/x-python",
   "name": "python",
   "nbconvert_exporter": "python",
   "pygments_lexer": "ipython3",
   "version": "3.12.4"
  }
 },
 "nbformat": 4,
 "nbformat_minor": 4
}
